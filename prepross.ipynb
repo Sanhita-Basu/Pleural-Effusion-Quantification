{
 "cells": [
  {
   "cell_type": "code",
   "execution_count": 3,
   "metadata": {},
   "outputs": [],
   "source": [
    "import os\n",
    "import nibabel as nib\n",
    "import matplotlib.pyplot as plt\n",
    "from skimage.measure import label \n",
    "import numpy as np\n",
    "from sklearn.feature_extraction import image"
   ]
  },
  {
   "cell_type": "code",
   "execution_count": 4,
   "metadata": {},
   "outputs": [],
   "source": [
    "def normalize(volume):\n",
    "    \"\"\"Normalize the volume\"\"\"\n",
    "    min = -1000\n",
    "    max = 400\n",
    "    volume[volume < min] = min\n",
    "    volume[volume > max] = max\n",
    "    volume = (volume - min) / (max - min)\n",
    "    #volume = (volume-np.min(ct))/(np.max(volume)-np.min(volume))\n",
    "    volume = volume.astype(\"float16\")\n",
    "    return volume"
   ]
  },
  {
   "cell_type": "code",
   "execution_count": 11,
   "metadata": {},
   "outputs": [],
   "source": [
    "ct_paths = []\n",
    "gt_paths = []\n",
    "\n",
    "ct_1 = 'Data\\CTPA\\ct'\n",
    "gt_1 = 'Data\\CTPA\\gt'\n",
    "\n",
    "for file in os.listdir(gt_1):\n",
    "    if file == '.DS_Store':\n",
    "        continue\n",
    "        \n",
    "    ct_paths.append(os.path.join(ct_1, file))\n",
    "    gt_paths.append(os.path.join(gt_1, file))\n",
    "\n"
   ]
  },
  {
   "cell_type": "code",
   "execution_count": 12,
   "metadata": {},
   "outputs": [
    {
     "data": {
      "text/plain": [
       "['Data\\\\CTPA\\\\gt\\\\107376_3217448802.nii',\n",
       " 'Data\\\\CTPA\\\\gt\\\\115545_1969626925.nii',\n",
       " 'Data\\\\CTPA\\\\gt\\\\144378.nii',\n",
       " 'Data\\\\CTPA\\\\gt\\\\146312.nii',\n",
       " 'Data\\\\CTPA\\\\gt\\\\202705_9286550908.nii',\n",
       " 'Data\\\\CTPA\\\\gt\\\\206217_9486844875.nii',\n",
       " 'Data\\\\CTPA\\\\gt\\\\211544_3076658294.nii',\n",
       " 'Data\\\\CTPA\\\\gt\\\\222304_2015941578.nii',\n",
       " 'Data\\\\CTPA\\\\gt\\\\245250.nii',\n",
       " 'Data\\\\CTPA\\\\gt\\\\259298_2202832192.nii',\n",
       " 'Data\\\\CTPA\\\\gt\\\\270928.nii',\n",
       " 'Data\\\\CTPA\\\\gt\\\\271952.nii',\n",
       " 'Data\\\\CTPA\\\\gt\\\\294446_2514689668.nii',\n",
       " 'Data\\\\CTPA\\\\gt\\\\294781_9638675593.nii',\n",
       " 'Data\\\\CTPA\\\\gt\\\\296207_9880974486.nii',\n",
       " 'Data\\\\CTPA\\\\gt\\\\298029_1358846210.nii',\n",
       " 'Data\\\\CTPA\\\\gt\\\\301923_3157086405.nii',\n",
       " 'Data\\\\CTPA\\\\gt\\\\302173_9354834267.nii',\n",
       " 'Data\\\\CTPA\\\\gt\\\\302521_1720106278.nii',\n",
       " 'Data\\\\CTPA\\\\gt\\\\304669_8054839361.nii',\n",
       " 'Data\\\\CTPA\\\\gt\\\\314634.nii',\n",
       " 'Data\\\\CTPA\\\\gt\\\\315852_3396378583.nii',\n",
       " 'Data\\\\CTPA\\\\gt\\\\316600_1912642644.nii',\n",
       " 'Data\\\\CTPA\\\\gt\\\\319711_9405402854.nii',\n",
       " 'Data\\\\CTPA\\\\gt\\\\333222_1975761132.nii',\n",
       " 'Data\\\\CTPA\\\\gt\\\\621120.nii',\n",
       " 'Data\\\\CTPA\\\\gt\\\\741645.nii']"
      ]
     },
     "execution_count": 12,
     "metadata": {},
     "output_type": "execute_result"
    }
   ],
   "source": [
    "gt_paths"
   ]
  },
  {
   "cell_type": "code",
   "execution_count": null,
   "metadata": {},
   "outputs": [],
   "source": []
  }
 ],
 "metadata": {
  "kernelspec": {
   "display_name": "Python 3.9.13 ('tf')",
   "language": "python",
   "name": "python3"
  },
  "language_info": {
   "codemirror_mode": {
    "name": "ipython",
    "version": 3
   },
   "file_extension": ".py",
   "mimetype": "text/x-python",
   "name": "python",
   "nbconvert_exporter": "python",
   "pygments_lexer": "ipython3",
   "version": "3.9.13"
  },
  "orig_nbformat": 4,
  "vscode": {
   "interpreter": {
    "hash": "b784610f815abf986ff1edbc2016ca3775f72e1d14c5de43a967128404668c64"
   }
  }
 },
 "nbformat": 4,
 "nbformat_minor": 2
}
