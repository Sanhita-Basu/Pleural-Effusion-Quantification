{
  "nbformat": 4,
  "nbformat_minor": 0,
  "metadata": {
    "colab": {
      "provenance": [],
      "authorship_tag": "ABX9TyN8T/fvGWsD9JAfHLD5/4Af",
      "include_colab_link": true
    },
    "kernelspec": {
      "name": "python3",
      "display_name": "Python 3"
    },
    "language_info": {
      "name": "python"
    }
  },
  "cells": [
    {
      "cell_type": "markdown",
      "metadata": {
        "id": "view-in-github",
        "colab_type": "text"
      },
      "source": [
        "<a href=\"https://colab.research.google.com/github/Sanhita-Basu/Pleural-Effusion-Quantification/blob/main/show_dicom.ipynb\" target=\"_parent\"><img src=\"https://colab.research.google.com/assets/colab-badge.svg\" alt=\"Open In Colab\"/></a>"
      ]
    },
    {
      "cell_type": "code",
      "execution_count": null,
      "metadata": {
        "id": "-RJe8iXbuhkO"
      },
      "outputs": [],
      "source": [
        "import os\n",
        "import nibabel as nib\n",
        "from nibabel.testing import data_path"
      ]
    },
    {
      "cell_type": "code",
      "source": [
        "img_ni1 = os.path.join(data_path, '/content/img.nii.gz')\n",
        "n1_img = nib.load(img_ni1)\n",
        "n1_img.shape\n",
        "n1_header = n1_img.header\n",
        "print(n1_header)"
      ],
      "metadata": {
        "colab": {
          "base_uri": "https://localhost:8080/"
        },
        "id": "jWDNNViLHI19",
        "outputId": "4fa716e8-5023-43bf-d9b2-2e4cfbc6dd62"
      },
      "execution_count": null,
      "outputs": [
        {
          "output_type": "stream",
          "name": "stdout",
          "text": [
            "<class 'nibabel.nifti1.Nifti1Header'> object, endian='<'\n",
            "sizeof_hdr      : 348\n",
            "data_type       : b''\n",
            "db_name         : b''\n",
            "extents         : 0\n",
            "session_error   : 0\n",
            "regular         : b''\n",
            "dim_info        : 0\n",
            "dim             : [  3 512 512  95   1   1   1   1]\n",
            "intent_p1       : 0.0\n",
            "intent_p2       : 0.0\n",
            "intent_p3       : 0.0\n",
            "intent_code     : none\n",
            "datatype        : int16\n",
            "bitpix          : 16\n",
            "slice_start     : 0\n",
            "pixdim          : [-1.     0.977  0.977  3.     1.     1.     1.     1.   ]\n",
            "vox_offset      : 0.0\n",
            "scl_slope       : nan\n",
            "scl_inter       : nan\n",
            "slice_end       : 0\n",
            "slice_code      : unknown\n",
            "xyzt_units      : 2\n",
            "cal_max         : 0.0\n",
            "cal_min         : 0.0\n",
            "slice_duration  : 0.0\n",
            "toffset         : 0.0\n",
            "glmax           : 0\n",
            "glmin           : 0\n",
            "descrip         : b''\n",
            "aux_file        : b''\n",
            "qform_code      : unknown\n",
            "sform_code      : aligned\n",
            "quatern_b       : 0.0\n",
            "quatern_c       : 1.0\n",
            "quatern_d       : 0.0\n",
            "qoffset_x       : 250.112\n",
            "qoffset_y       : -249.135\n",
            "qoffset_z       : -177.9\n",
            "srow_x          : [ -0.977   0.      0.    250.112]\n",
            "srow_y          : [  -0.       0.977    0.    -249.135]\n",
            "srow_z          : [   0.    -0.     3.  -177.9]\n",
            "intent_name     : b''\n",
            "magic           : b'n+1'\n"
          ]
        }
      ]
    },
    {
      "cell_type": "code",
      "source": [
        "gt_ni1 = os.path.join(data_path, '/content/LUNG1-024_effusion_second_reviewer.nii.gz')\n",
        "n2_img = nib.load(gt_ni1)\n",
        "n2_img\n",
        "n2_header = n2_img.header\n",
        "print(n2_header)"
      ],
      "metadata": {
        "colab": {
          "base_uri": "https://localhost:8080/"
        },
        "id": "bSskpKYsKaxc",
        "outputId": "b7cf560c-fa00-4b2f-9612-eb68cc7c5b86"
      },
      "execution_count": null,
      "outputs": [
        {
          "output_type": "stream",
          "name": "stdout",
          "text": [
            "<class 'nibabel.nifti1.Nifti1Header'> object, endian='<'\n",
            "sizeof_hdr      : 348\n",
            "data_type       : b''\n",
            "db_name         : b''\n",
            "extents         : 0\n",
            "session_error   : 0\n",
            "regular         : b'r'\n",
            "dim_info        : 0\n",
            "dim             : [  3 512 512  95   1   1   1   1]\n",
            "intent_p1       : 0.0\n",
            "intent_p2       : 0.0\n",
            "intent_p3       : 0.0\n",
            "intent_code     : none\n",
            "datatype        : uint16\n",
            "bitpix          : 16\n",
            "slice_start     : 0\n",
            "pixdim          : [-1.     0.977  0.977  3.     0.     0.     0.     0.   ]\n",
            "vox_offset      : 0.0\n",
            "scl_slope       : nan\n",
            "scl_inter       : nan\n",
            "slice_end       : 0\n",
            "slice_code      : unknown\n",
            "xyzt_units      : 2\n",
            "cal_max         : 0.0\n",
            "cal_min         : 0.0\n",
            "slice_duration  : 0.0\n",
            "toffset         : 0.0\n",
            "glmax           : 0\n",
            "glmin           : 0\n",
            "descrip         : b''\n",
            "aux_file        : b''\n",
            "qform_code      : aligned\n",
            "sform_code      : scanner\n",
            "quatern_b       : -0.0\n",
            "quatern_c       : 1.0\n",
            "quatern_d       : 0.0\n",
            "qoffset_x       : 250.112\n",
            "qoffset_y       : -249.13501\n",
            "qoffset_z       : -177.9\n",
            "srow_x          : [ -0.977  -0.      0.    250.112]\n",
            "srow_y          : [  -0.         0.977     -0.      -249.13501]\n",
            "srow_z          : [   0.     0.     3.  -177.9]\n",
            "intent_name     : b''\n",
            "magic           : b'n+1'\n"
          ]
        }
      ]
    },
    {
      "cell_type": "code",
      "source": [
        "lung_ni1 = os.path.join(data_path, '/content/LUNG1-024_thor_cav_primary_reviewer.nii.gz')\n",
        "n3_img = nib.load(lung_ni1)\n",
        "n3_img\n",
        "n3_header = n3_img.header\n",
        "print(n3_header)"
      ],
      "metadata": {
        "colab": {
          "base_uri": "https://localhost:8080/"
        },
        "id": "uwZMkiv6Ki-m",
        "outputId": "19805ddb-0c39-47bd-bebb-a77089d0c98e"
      },
      "execution_count": null,
      "outputs": [
        {
          "output_type": "stream",
          "name": "stdout",
          "text": [
            "<class 'nibabel.nifti1.Nifti1Header'> object, endian='<'\n",
            "sizeof_hdr      : 348\n",
            "data_type       : b''\n",
            "db_name         : b''\n",
            "extents         : 0\n",
            "session_error   : 0\n",
            "regular         : b'r'\n",
            "dim_info        : 0\n",
            "dim             : [  3 512 512  95   1   1   1   1]\n",
            "intent_p1       : 0.0\n",
            "intent_p2       : 0.0\n",
            "intent_p3       : 0.0\n",
            "intent_code     : none\n",
            "datatype        : uint16\n",
            "bitpix          : 16\n",
            "slice_start     : 0\n",
            "pixdim          : [-1.     0.977  0.977  3.     0.     0.     0.     0.   ]\n",
            "vox_offset      : 0.0\n",
            "scl_slope       : nan\n",
            "scl_inter       : nan\n",
            "slice_end       : 0\n",
            "slice_code      : unknown\n",
            "xyzt_units      : 2\n",
            "cal_max         : 0.0\n",
            "cal_min         : 0.0\n",
            "slice_duration  : 0.0\n",
            "toffset         : 0.0\n",
            "glmax           : 0\n",
            "glmin           : 0\n",
            "descrip         : b''\n",
            "aux_file        : b''\n",
            "qform_code      : aligned\n",
            "sform_code      : scanner\n",
            "quatern_b       : -0.0\n",
            "quatern_c       : 1.0\n",
            "quatern_d       : 0.0\n",
            "qoffset_x       : 250.112\n",
            "qoffset_y       : -249.13501\n",
            "qoffset_z       : -177.9\n",
            "srow_x          : [ -0.977  -0.      0.    250.112]\n",
            "srow_y          : [  -0.         0.977     -0.      -249.13501]\n",
            "srow_z          : [   0.     0.     3.  -177.9]\n",
            "intent_name     : b''\n",
            "magic           : b'n+1'\n"
          ]
        }
      ]
    },
    {
      "cell_type": "code",
      "source": [
        "import SimpleITK as sitk\n",
        "import numpy as np\n"
      ],
      "metadata": {
        "id": "NA7iMl-aLMIi"
      },
      "execution_count": null,
      "outputs": []
    },
    {
      "cell_type": "code",
      "source": [
        "!pip install SimpleITK"
      ],
      "metadata": {
        "colab": {
          "base_uri": "https://localhost:8080/"
        },
        "id": "K-dpny5S5JCz",
        "outputId": "fd878c9e-da43-4aba-bc4c-efd457e3dcdc"
      },
      "execution_count": null,
      "outputs": [
        {
          "output_type": "stream",
          "name": "stdout",
          "text": [
            "Collecting SimpleITK\n",
            "  Downloading SimpleITK-2.2.1-cp310-cp310-manylinux_2_17_x86_64.manylinux2014_x86_64.whl (52.7 MB)\n",
            "\u001b[2K     \u001b[90m━━━━━━━━━━━━━━━━━━━━━━━━━━━━━━━━━━━━━━━━\u001b[0m \u001b[32m52.7/52.7 MB\u001b[0m \u001b[31m8.0 MB/s\u001b[0m eta \u001b[36m0:00:00\u001b[0m\n",
            "\u001b[?25hInstalling collected packages: SimpleITK\n",
            "Successfully installed SimpleITK-2.2.1\n"
          ]
        }
      ]
    },
    {
      "cell_type": "code",
      "source": [
        "gt_nii = '/content/LUNG1-024_effusion_second_reviewer.nii.gz'\n",
        "sitk_t1 = sitk.ReadImage(gt_nii)\n",
        "t1 = sitk.GetArrayFromImage(sitk_t1)"
      ],
      "metadata": {
        "id": "vyj5sG2cVhBS"
      },
      "execution_count": null,
      "outputs": []
    },
    {
      "cell_type": "code",
      "source": [
        "t1.shape"
      ],
      "metadata": {
        "colab": {
          "base_uri": "https://localhost:8080/"
        },
        "id": "7_T1leqnW9IF",
        "outputId": "d7828d1a-1813-42c6-be65-740713aa317e"
      },
      "execution_count": null,
      "outputs": [
        {
          "output_type": "execute_result",
          "data": {
            "text/plain": [
              "(95, 512, 512)"
            ]
          },
          "metadata": {},
          "execution_count": 55
        }
      ]
    },
    {
      "cell_type": "code",
      "source": [
        "lung_nii = '/content/LUNG1-024_thor_cav_primary_reviewer.nii.gz'\n",
        "sitk_t2 = sitk.ReadImage(lung_nii)\n",
        "t2 = sitk.GetArrayFromImage(sitk_t2)\n",
        "t2.shape"
      ],
      "metadata": {
        "colab": {
          "base_uri": "https://localhost:8080/"
        },
        "id": "0-QPHwx_U8HM",
        "outputId": "49bc5091-923e-4599-d480-13df625afe47"
      },
      "execution_count": null,
      "outputs": [
        {
          "output_type": "execute_result",
          "data": {
            "text/plain": [
              "(95, 512, 512)"
            ]
          },
          "metadata": {},
          "execution_count": 7
        }
      ]
    },
    {
      "cell_type": "code",
      "source": [
        "np.count_nonzero(t1 == 2)"
      ],
      "metadata": {
        "colab": {
          "base_uri": "https://localhost:8080/"
        },
        "id": "QJVEMuDx7aqC",
        "outputId": "1b6ef9a9-9e79-47bd-dd69-c5b86c2e3f74"
      },
      "execution_count": null,
      "outputs": [
        {
          "output_type": "execute_result",
          "data": {
            "text/plain": [
              "0"
            ]
          },
          "metadata": {},
          "execution_count": 14
        }
      ]
    },
    {
      "cell_type": "code",
      "source": [
        "t2[t2==2] = 1\n",
        "t3 = t2 - t1\n",
        "#t3[t3==1] = 0\n",
        "#t3[t3==-1] = 0"
      ],
      "metadata": {
        "id": "6JXhNuw6aZx6"
      },
      "execution_count": null,
      "outputs": []
    },
    {
      "cell_type": "code",
      "source": [
        "t1[t1==1] = 2"
      ],
      "metadata": {
        "id": "hBpjPsHJ88mD"
      },
      "execution_count": null,
      "outputs": []
    },
    {
      "cell_type": "code",
      "source": [
        "new_img = t1+t3"
      ],
      "metadata": {
        "id": "XwR28TnsVSr1"
      },
      "execution_count": null,
      "outputs": []
    },
    {
      "cell_type": "code",
      "source": [
        "inputImage = sitk.ReadImage('/content/LUNG1-024_thor_cav_primary_reviewer.nii.gz')\n",
        "result_image = sitk.GetImageFromArray(new_img)\n",
        "result_image.CopyInformation(inputImage)\n",
        "sitk.WriteImage(result_image, '/content/result.nii.gz')"
      ],
      "metadata": {
        "id": "f67LiKdEWZSn"
      },
      "execution_count": null,
      "outputs": []
    },
    {
      "cell_type": "code",
      "source": [],
      "metadata": {
        "id": "4Qc0svfYZUxz"
      },
      "execution_count": null,
      "outputs": []
    }
  ]
}